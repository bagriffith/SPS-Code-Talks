{
 "cells": [
  {
   "cell_type": "markdown",
   "metadata": {
    "collapsed": true
   },
   "source": [
    "## Import Data ##"
   ]
  },
  {
   "cell_type": "code",
   "execution_count": 1,
   "metadata": {},
   "outputs": [
    {
     "data": {
      "text/plain": [
       "['.ipynb_checkpoints',\n",
       " 'sampex_ex.txt~',\n",
       " 'basics.ipynb',\n",
       " 'samex_ex.txt~',\n",
       " 'sampex_ex.txt',\n",
       " 'demo.ipynb']"
      ]
     },
     "execution_count": 1,
     "metadata": {},
     "output_type": "execute_result"
    }
   ],
   "source": [
    "import os\n",
    "\n",
    "os.chdir(r'/home/brady/Documents/class/2018f/SPS/Python/code-talk-1')\n",
    "os.listdir()"
   ]
  },
  {
   "cell_type": "markdown",
   "metadata": {},
   "source": [
    "The example data is from SAMPEX in State 1\n",
    "Documentation: http://www.srl.caltech.edu/sampex/DataCenter/docs/HILThires.html"
   ]
  },
  {
   "cell_type": "code",
   "execution_count": 2,
   "metadata": {},
   "outputs": [],
   "source": [
    "data = {'Time': [], 'Counts': []}\n",
    "\n",
    "with open('sampex_ex.txt') as file:\n",
    "    for n, line_str in enumerate(file):\n",
    "        if n == 0:\n",
    "            continue\n",
    "            \n",
    "        line = line_str[:-1].split(' ')\n",
    "        \n",
    "        data['Time'].append(float(line[0]))\n",
    "        data['Counts'].append(int(line[4]))\n",
    "        \n",
    "        #print(line)\n",
    "        # if n < 10:\n",
    "        #     n += 1\n",
    "        # else:\n",
    "        #     break"
   ]
  },
  {
   "cell_type": "code",
   "execution_count": 3,
   "metadata": {},
   "outputs": [
    {
     "name": "stdout",
     "output_type": "stream",
     "text": [
      "53340.2\n",
      "3\n"
     ]
    }
   ],
   "source": [
    "print(data['Time'][20])\n",
    "print(data['Counts'][20])"
   ]
  },
  {
   "cell_type": "code",
   "execution_count": 4,
   "metadata": {},
   "outputs": [
    {
     "name": "stdout",
     "output_type": "stream",
     "text": [
      "3\n",
      "30\n",
      "552\n",
      "9168\n",
      "11512\n",
      "12158\n",
      "12258\n",
      "14312\n",
      "14690\n",
      "14832\n",
      "14866\n",
      "14888\n",
      "14906\n",
      "14930\n",
      "14944\n",
      "14951\n",
      "14966\n",
      "14987\n",
      "15001\n",
      "15006\n",
      "15095\n",
      "15108\n",
      "15116\n",
      "15158\n",
      "15269\n",
      "15277\n",
      "15313\n",
      "15332\n",
      "15374\n",
      "Peak Time:  54875.6\n",
      "Peak Counts:  98\n"
     ]
    }
   ],
   "source": [
    "peak = 0\n",
    "\n",
    "for n in range(len(data['Counts'])):\n",
    "    if data['Counts'][n] > data['Counts'][peak]:\n",
    "        peak = n\n",
    "        print(peak)\n",
    "           \n",
    "print('Peak Time: ', data['Time'][peak])\n",
    "print('Peak Counts: ', data['Counts'][peak])\n",
    "        "
   ]
  },
  {
   "cell_type": "code",
   "execution_count": 6,
   "metadata": {},
   "outputs": [
    {
     "data": {
      "text/plain": [
       "[<matplotlib.lines.Line2D at 0x7efc77388dd8>]"
      ]
     },
     "execution_count": 6,
     "metadata": {},
     "output_type": "execute_result"
    },
    {
     "data": {
      "image/png": "[encoded data removed]",
      "text/plain": [
       "<Figure size 432x288 with 1 Axes>"
      ]
     },
     "metadata": {
      "needs_background": "light"
     },
     "output_type": "display_data"
    }
   ],
   "source": [
    "import matplotlib.pyplot as plt\n",
    "\n",
    "t_start = peak - 400\n",
    "t_end = peak + 800\n",
    "\n",
    "t = data['Time'][t_start:t_end]\n",
    "counts = data['Counts'][t_start:t_end]\n",
    "\n",
    "plt.plot(t,counts)"
   ]
  },
  {
   "cell_type": "code",
   "execution_count": null,
   "metadata": {},
   "outputs": [],
   "source": []
  }
 ],
 "metadata": {
  "kernelspec": {
   "display_name": "Python 2",
   "language": "python",
   "name": "python2"
  },
  "language_info": {
   "codemirror_mode": {
    "name": "ipython",
    "version": 3
   },
   "file_extension": ".py",
   "mimetype": "text/x-python",
   "name": "python",
   "nbconvert_exporter": "python",
   "pygments_lexer": "ipython3",
   "version": "3.6.7"
  }
 },
 "nbformat": 4,
 "nbformat_minor": 1
}
