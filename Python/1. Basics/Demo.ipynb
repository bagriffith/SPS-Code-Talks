{
 "cells": [
  {
   "cell_type": "code",
   "execution_count": 2,
   "metadata": {},
   "outputs": [
    {
     "data": {
      "text/plain": [
       "['.ipynb_checkpoints', 'sampex_ex.txt', 'Demo.ipynb']"
      ]
     },
     "execution_count": 2,
     "metadata": {},
     "output_type": "execute_result"
    }
   ],
   "source": [
    "import os\n",
    "\n",
    "os.chdir(r'/home/brady/Downloads/python-talk-1-demo')\n",
    "os.listdir()"
   ]
  },
  {
   "cell_type": "code",
   "execution_count": 17,
   "metadata": {},
   "outputs": [],
   "source": [
    "data = {'Time': [], 'Counts': []}\n",
    "\n",
    "with open('sampex_ex.txt') as file:\n",
    "    n = 0\n",
    "    for line in file:\n",
    "        if n == 0:\n",
    "            n = n + 1\n",
    "            continue\n",
    "        \n",
    "        n =  n + 1\n",
    "        line_list = line.split(' ')\n",
    "        data['Time'].append(float(line_list[0]))\n",
    "        data['Counts'].append(int(line_list[4]))\n",
    "        "
   ]
  },
  {
   "cell_type": "code",
   "execution_count": 21,
   "metadata": {
    "collapsed": true
   },
   "outputs": [
    {
     "name": "stdout",
     "output_type": "stream",
     "text": [
      "3\n",
      "30\n",
      "552\n",
      "9168\n",
      "11512\n",
      "12158\n",
      "12258\n",
      "14312\n",
      "14690\n",
      "14832\n",
      "14866\n",
      "14888\n",
      "14906\n",
      "14930\n",
      "14944\n",
      "14951\n",
      "14966\n",
      "14987\n",
      "15001\n",
      "15006\n",
      "15095\n",
      "15108\n",
      "15116\n",
      "15158\n",
      "15269\n",
      "15277\n",
      "15313\n",
      "15332\n",
      "15374\n"
     ]
    }
   ],
   "source": [
    "peak = 0\n",
    "\n",
    "for n in range(len(data['Counts'])):\n",
    "    if data['Counts'][n] > data['Counts'][peak]:\n",
    "        peak = n\n",
    "        print(n)"
   ]
  },
  {
   "cell_type": "code",
   "execution_count": 22,
   "metadata": {},
   "outputs": [
    {
     "data": {
      "text/plain": [
       "16618"
      ]
     },
     "execution_count": 22,
     "metadata": {},
     "output_type": "execute_result"
    }
   ],
   "source": [
    "len(data['Counts'])"
   ]
  },
  {
   "cell_type": "code",
   "execution_count": 24,
   "metadata": {},
   "outputs": [
    {
     "name": "stdout",
     "output_type": "stream",
     "text": [
      "54875.6\n",
      "98\n"
     ]
    }
   ],
   "source": [
    "print(data['Time'][peak])\n",
    "print(data['Counts'][peak])"
   ]
  },
  {
   "cell_type": "code",
   "execution_count": 29,
   "metadata": {},
   "outputs": [
    {
     "data": {
      "text/plain": [
       "[<matplotlib.lines.Line2D at 0x7fba94bb8908>]"
      ]
     },
     "execution_count": 29,
     "metadata": {},
     "output_type": "execute_result"
    },
    {
     "data": {
      "image/png": "[encoded data removed]",
      "text/plain": [
       "<Figure size 432x288 with 1 Axes>"
      ]
     },
     "metadata": {
      "needs_background": "light"
     },
     "output_type": "display_data"
    }
   ],
   "source": [
    "import matplotlib.pyplot as plt\n",
    "\n",
    "t_start = peak - 4000\n",
    "t_end   = peak + 80000\n",
    "\n",
    "t = data['Time'][t_start:t_end]\n",
    "c = data['Counts'][t_start:t_end]\n",
    "\n",
    "plt.plot(t,c)"
   ]
  },
  {
   "cell_type": "code",
   "execution_count": null,
   "metadata": {},
   "outputs": [],
   "source": []
  }
 ],
 "metadata": {
  "kernelspec": {
   "display_name": "Python 3",
   "language": "python",
   "name": "python3"
  },
  "language_info": {
   "codemirror_mode": {
    "name": "ipython",
    "version": 3
   },
   "file_extension": ".py",
   "mimetype": "text/x-python",
   "name": "python",
   "nbconvert_exporter": "python",
   "pygments_lexer": "ipython3",
   "version": "3.6.7"
  }
 },
 "nbformat": 4,
 "nbformat_minor": 2
}
