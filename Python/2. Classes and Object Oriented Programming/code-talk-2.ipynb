{
 "cells": [
  {
   "cell_type": "markdown",
   "metadata": {
    "collapsed": true
   },
   "source": [
    "# Classes and Objects! #"
   ]
  },
  {
   "cell_type": "markdown",
   "metadata": {},
   "source": [
    "## Built in Objects ##"
   ]
  },
  {
   "cell_type": "code",
   "execution_count": 68,
   "metadata": {},
   "outputs": [],
   "source": [
    "hello_string = 'Hello World'"
   ]
  },
  {
   "cell_type": "code",
   "execution_count": 69,
   "metadata": {},
   "outputs": [
    {
     "name": "stdout",
     "output_type": "stream",
     "text": [
      "hello world\n['Hello', 'World']\n"
     ]
    }
   ],
   "source": [
    "# Functions to return changes\n",
    "print(hello_string.lower())\n",
    "print(hello_string.split())"
   ]
  },
  {
   "cell_type": "code",
   "execution_count": 70,
   "metadata": {},
   "outputs": [
    {
     "name": "stdout",
     "output_type": "stream",
     "text": [
      "Hello World!\n"
     ]
    }
   ],
   "source": [
    "# Functions to change the object\n",
    "hello_string += '!'\n",
    "print(hello_string)"
   ]
  },
  {
   "cell_type": "code",
   "execution_count": 71,
   "metadata": {},
   "outputs": [
    {
     "name": "stdout",
     "output_type": "stream",
     "text": [
      "12\n"
     ]
    }
   ],
   "source": [
    "# Uses built in functions \n",
    "print(len(hello_string))"
   ]
  },
  {
   "cell_type": "code",
   "execution_count": 72,
   "metadata": {},
   "outputs": [
    {
     "name": "stdout",
     "output_type": "stream",
     "text": [
      "['H', 'e', 'l', 'l', 'o', ' ', 'W', 'o', 'r', 'l', 'd', '!']\n"
     ]
    }
   ],
   "source": [
    "# Convert to other types\n",
    "print(list(hello_string))"
   ]
  },
  {
   "cell_type": "markdown",
   "metadata": {},
   "source": [
    "## Custom Objects ##"
   ]
  },
  {
   "cell_type": "code",
   "execution_count": 95,
   "metadata": {},
   "outputs": [],
   "source": [
    "import numpy as np\n",
    "import matplotlib.pyplot as plt"
   ]
  },
  {
   "cell_type": "code",
   "execution_count": 105,
   "metadata": {},
   "outputs": [],
   "source": [
    "class Vector:\n",
    "    def __init__(self, component_list):\n",
    "        if len(component_list) != 2:\n",
    "            raise ValueError('Must provide 2 compontnets. Instead Provided ', component_list)\n",
    "        \n",
    "        self.x = component_list[0]\n",
    "        self.y = component_list[1]\n",
    "    \n",
    "    def __str__(self):\n",
    "        return u'\\u3008{:.6g}, {:.6g}\\u3009'.format(self.x, self.y)\n",
    "    \n",
    "    def __mul__(self, other):\n",
    "        a = float(other)\n",
    "        return Vector([self.x*a,self.y*a])\n",
    "    \n",
    "    def __truediv__(self, other):\n",
    "        a = float(other)\n",
    "        return Vector([self.x/a,self.y/a])\n",
    "        \n",
    "    def __add__(self, other):\n",
    "        return Vector([self.x+other.x, self.y+other.y])\n",
    "        \n",
    "    def __sub__(self, other):\n",
    "        return Vector([self.x-other.x, self.y-other.y])\n",
    "        \n",
    "    def mag(self):\n",
    "        return np.sqrt(self.x**2 + self.y**2)\n",
    "    \n",
    "    def direction(self):\n",
    "        return self/self.mag()\n",
    "    \n",
    "    def __iter__(self):\n",
    "        for i in range(2):\n",
    "            if i == 0:\n",
    "                yield self.x\n",
    "            else:\n",
    "                yield self.y    \n",
    "    "
   ]
  },
  {
   "cell_type": "code",
   "execution_count": 106,
   "metadata": {},
   "outputs": [],
   "source": [
    "class Wire:\n",
    "    def __init__(self, current):\n",
    "        self.i = current\n",
    "        \n",
    "    def B(self, location):\n",
    "        r_hat = location.direction()\n",
    "        b_hat = Vector([r_hat.y, r_hat.x])\n",
    "        return b_hat*mu_0*self.i/(2*np.pi*location.mag())"
   ]
  },
  {
   "cell_type": "code",
   "execution_count": 107,
   "metadata": {},
   "outputs": [],
   "source": [
    "class World:\n",
    "    def __init__(self):\n",
    "        self.wires = {}\n",
    "        \n",
    "    def add_wire(self, wire, location):\n",
    "        self.wires[wire] = location\n",
    "\n",
    "    def B(self, location):\n",
    "        B = Vector([0,0])\n",
    "        for wire, wire_loc in  self.wires.items():\n",
    "            B += wire.B(location - wire_loc)\n",
    "            \n",
    "        return B\n"
   ]
  },
  {
   "cell_type": "markdown",
   "metadata": {},
   "source": [
    "# Units and Constants #"
   ]
  },
  {
   "cell_type": "markdown",
   "metadata": {},
   "source": [
    "# Something Useful #"
   ]
  },
  {
   "cell_type": "markdown",
   "metadata": {},
   "source": [
    "# Something Useful #"
   ]
  },
  {
   "cell_type": "code",
   "execution_count": 109,
   "metadata": {},
   "outputs": [],
   "source": [
    "experiment = World()\n",
    "experiment.add_wire(Wire(1*mA), Vector([-1,1])*cm)\n",
    "experiment.add_wire(Wire(1*mA), Vector([1,1])*cm)\n",
    "experiment.add_wire(Wire(1*mA), Vector([1,-1])*cm)\n",
    "experiment.add_wire(Wire(1*mA), Vector([-1,-1])*cm)"
   ]
  },
  {
   "cell_type": "code",
   "execution_count": 110,
   "metadata": {},
   "outputs": [
    {
     "name": "stdout",
     "output_type": "stream",
     "text": [
      "〈0.2, 0.2〉 nT\n"
     ]
    }
   ],
   "source": [
    "print(experiment.B(Vector([2,2]))/nT, 'nT')"
   ]
  },
  {
   "cell_type": "code",
   "execution_count": 123,
   "metadata": {},
   "outputs": [
    {
     "data": {
      "text/plain": [
       "<matplotlib.quiver.Quiver at 0x7f0a7ca059b0>"
      ]
     },
     "execution_count": 123,
     "metadata": {},
     "output_type": "execute_result"
    },
    {
     "data": {
      "image/png": "[encoded data removed]",
      "text/plain": [
       "<Figure size 432x288 with 1 Axes>"
      ]
     },
     "metadata": {},
     "output_type": "display_data"
    }
   ],
   "source": [
    "x_range = np.linspace(-.5*cm, .5*cm, 10)\n",
    "y_range = np.linspace(-.5*cm, .5*cm, 10)\n",
    "\n",
    "\n",
    "\n",
    "u = np.zeros((10, 10))\n",
    "v = np.zeros((10, 10))\n",
    "\n",
    "for m, x in enumerate(x_range):\n",
    "    for n, y in enumerate(y_range):\n",
    "        B_mn = experiment.B(Vector([x,y]))\n",
    "        u[m,n], v[m,n] = B_mn\n",
    "\n",
    "plt.quiver(x_range, y_range, u, v)"
   ]
  }
 ],
 "metadata": {
  "kernelspec": {
   "display_name": "Python 2",
   "language": "python",
   "name": "python2"
  },
  "language_info": {
   "codemirror_mode": {
    "name": "ipython",
    "version": 2
   },
   "file_extension": ".py",
   "mimetype": "text/x-python",
   "name": "python",
   "nbconvert_exporter": "python",
   "pygments_lexer": "ipython2",
   "version": "2.7.6"
  }
 },
 "nbformat": 4,
 "nbformat_minor": 0
}
